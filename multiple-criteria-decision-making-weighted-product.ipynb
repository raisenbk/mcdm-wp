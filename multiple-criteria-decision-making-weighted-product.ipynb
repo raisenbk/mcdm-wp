{
 "cells": [
  {
   "cell_type": "markdown",
   "id": "9e2a9919",
   "metadata": {},
   "source": [
    "# Import Library"
   ]
  },
  {
   "cell_type": "code",
   "execution_count": 1,
   "id": "708fea0b",
   "metadata": {},
   "outputs": [],
   "source": [
    "import numpy as np"
   ]
  },
  {
   "cell_type": "markdown",
   "id": "7015c4a3",
   "metadata": {},
   "source": [
    "# Memasukkan nama alternative"
   ]
  },
  {
   "cell_type": "code",
   "execution_count": null,
   "id": "d58b1ab3",
   "metadata": {},
   "outputs": [],
   "source": [
    "num_alternatives = int(input(\"Masukkan jumlah alternative: \"))\n",
    "alternatives = [input(f\"Nama Alternative {i+1}: \") for i in range(num_alternatives)]"
   ]
  },
  {
   "cell_type": "markdown",
   "id": "215c9269",
   "metadata": {},
   "source": [
    "# Memasukkan jumlah kriteria"
   ]
  },
  {
   "cell_type": "code",
   "execution_count": null,
   "id": "f9a3a359",
   "metadata": {},
   "outputs": [],
   "source": [
    "num_criteria = int(input(\"Masukkan jumlah kriteria: \"))"
   ]
  },
  {
   "cell_type": "markdown",
   "id": "41fca6be",
   "metadata": {},
   "source": [
    "# Memasukkan kriteria dan menentukan jenisnya (beneficial atau non-beneficial)"
   ]
  },
  {
   "cell_type": "code",
   "execution_count": 5,
   "id": "55c162be",
   "metadata": {},
   "outputs": [
    {
     "name": "stdout",
     "output_type": "stream",
     "text": [
      "Nama Kriteria 1: Jarak\n",
      "Tipe Kriteria (Jarak): (b / n): n\n",
      "Nama Kriteria 2: Biaya\n",
      "Tipe Kriteria (Biaya): (b / n): n\n",
      "Nama Kriteria 3: Fasilitas\n",
      "Tipe Kriteria (Fasilitas): (b / n): b\n",
      "Nama Kriteria 4: Luas kamar\n",
      "Tipe Kriteria (Luas kamar): (b / n): b\n"
     ]
    }
   ],
   "source": [
    "criteria_info = {}\n",
    "for i in range(num_criteria):\n",
    "    criteria_name = input(f\"Nama Kriteria {i+1}: \")\n",
    "    criteria_type = input(f\"Tipe Kriteria ({criteria_name}): (b / n): \").lower()\n",
    "    criteria_info[criteria_name] = criteria_type"
   ]
  },
  {
   "cell_type": "markdown",
   "id": "5451bf25",
   "metadata": {},
   "source": [
    "# Memasukkan bobot (weight) setiap kriteria"
   ]
  },
  {
   "cell_type": "code",
   "execution_count": 6,
   "id": "0985de76",
   "metadata": {},
   "outputs": [
    {
     "name": "stdout",
     "output_type": "stream",
     "text": [
      "Bobot Kriteria Jarak: 0.4\n",
      "Bobot Kriteria Biaya: 0.3\n",
      "Bobot Kriteria Fasilitas: 0.2\n",
      "Bobot Kriteria Luas kamar: 0.1\n"
     ]
    }
   ],
   "source": [
    "weights = [float(input(f\"Bobot Kriteria {criteria}: \")) for criteria in criteria_info.keys()]"
   ]
  },
  {
   "cell_type": "markdown",
   "id": "4137a79f",
   "metadata": {},
   "source": [
    "# Pembuatan decision matrix"
   ]
  },
  {
   "cell_type": "code",
   "execution_count": 7,
   "id": "8f6ba31f",
   "metadata": {},
   "outputs": [
    {
     "name": "stdout",
     "output_type": "stream",
     "text": [
      "Rating Alternative Apartement SDC terhadap Kriteria Jarak: 300\n",
      "Rating Alternative Apartement SDC terhadap Kriteria Biaya: 3250000\n",
      "Rating Alternative Apartement SDC terhadap Kriteria Fasilitas: 22\n",
      "Rating Alternative Apartement SDC terhadap Kriteria Luas kamar: 36\n",
      "Rating Alternative Dormitory UMN terhadap Kriteria Jarak: 1400\n",
      "Rating Alternative Dormitory UMN terhadap Kriteria Biaya: 1288000\n",
      "Rating Alternative Dormitory UMN terhadap Kriteria Fasilitas: 11\n",
      "Rating Alternative Dormitory UMN terhadap Kriteria Luas kamar: 25\n",
      "Rating Alternative Treasure Kost terhadap Kriteria Jarak: 450\n",
      "Rating Alternative Treasure Kost terhadap Kriteria Biaya: 1650000\n",
      "Rating Alternative Treasure Kost terhadap Kriteria Fasilitas: 9\n",
      "Rating Alternative Treasure Kost terhadap Kriteria Luas kamar: 12\n",
      "Rating Alternative Resident 8 terhadap Kriteria Jarak: 450\n",
      "Rating Alternative Resident 8 terhadap Kriteria Biaya: 1350000\n",
      "Rating Alternative Resident 8 terhadap Kriteria Fasilitas: 9\n",
      "Rating Alternative Resident 8 terhadap Kriteria Luas kamar: 12\n",
      "Rating Alternative Newton terhadap Kriteria Jarak: 220\n",
      "Rating Alternative Newton terhadap Kriteria Biaya: 1900000\n",
      "Rating Alternative Newton terhadap Kriteria Fasilitas: 6\n",
      "Rating Alternative Newton terhadap Kriteria Luas kamar: 16\n",
      "Rating Alternative Giant Kost terhadap Kriteria Jarak: 550\n",
      "Rating Alternative Giant Kost terhadap Kriteria Biaya: 1700000\n",
      "Rating Alternative Giant Kost terhadap Kriteria Fasilitas: 8\n",
      "Rating Alternative Giant Kost terhadap Kriteria Luas kamar: 36\n",
      "Rating Alternative MRoom DS Kost terhadap Kriteria Jarak: 650\n",
      "Rating Alternative MRoom DS Kost terhadap Kriteria Biaya: 1500000\n",
      "Rating Alternative MRoom DS Kost terhadap Kriteria Fasilitas: 11\n",
      "Rating Alternative MRoom DS Kost terhadap Kriteria Luas kamar: 16\n",
      "Rating Alternative 8H terhadap Kriteria Jarak: 450\n",
      "Rating Alternative 8H terhadap Kriteria Biaya: 2000000\n",
      "Rating Alternative 8H terhadap Kriteria Fasilitas: 15\n",
      "Rating Alternative 8H terhadap Kriteria Luas kamar: 9\n",
      "Rating Alternative Dalton terhadap Kriteria Jarak: 450\n",
      "Rating Alternative Dalton terhadap Kriteria Biaya: 2000000\n",
      "Rating Alternative Dalton terhadap Kriteria Fasilitas: 15\n",
      "Rating Alternative Dalton terhadap Kriteria Luas kamar: 12\n",
      "\n",
      "Decision Matrix:\n",
      "[[3.000e+02 3.250e+06 2.200e+01 3.600e+01]\n",
      " [1.400e+03 1.288e+06 1.100e+01 2.500e+01]\n",
      " [4.500e+02 1.650e+06 9.000e+00 1.200e+01]\n",
      " [4.500e+02 1.350e+06 9.000e+00 1.200e+01]\n",
      " [2.200e+02 1.900e+06 6.000e+00 1.600e+01]\n",
      " [5.500e+02 1.700e+06 8.000e+00 3.600e+01]\n",
      " [6.500e+02 1.500e+06 1.100e+01 1.600e+01]\n",
      " [4.500e+02 2.000e+06 1.500e+01 9.000e+00]\n",
      " [4.500e+02 2.000e+06 1.500e+01 1.200e+01]]\n"
     ]
    }
   ],
   "source": [
    "decision_matrix = np.zeros((num_alternatives, num_criteria))\n",
    "for i in range(num_alternatives):\n",
    "    for j, criteria in enumerate(criteria_info.keys()):\n",
    "        decision_matrix[i][j] = float(input(f\"Rating Alternative {alternatives[i]} terhadap Kriteria {criteria}: \"))\n",
    "\n",
    "print(\"\\nDecision Matrix:\")\n",
    "print(decision_matrix)"
   ]
  },
  {
   "cell_type": "markdown",
   "id": "43607022",
   "metadata": {},
   "source": [
    "# Normalisasi decision matrix"
   ]
  },
  {
   "cell_type": "code",
   "execution_count": 8,
   "id": "dc91908c",
   "metadata": {},
   "outputs": [
    {
     "name": "stdout",
     "output_type": "stream",
     "text": [
      "\n",
      "Normalized Decision Matrix:\n",
      "[[0.73333333 0.39630769 1.         1.        ]\n",
      " [0.15714286 1.         0.5        0.69444444]\n",
      " [0.48888889 0.78060606 0.40909091 0.33333333]\n",
      " [0.48888889 0.95407407 0.40909091 0.33333333]\n",
      " [1.         0.67789474 0.27272727 0.44444444]\n",
      " [0.4        0.75764706 0.36363636 1.        ]\n",
      " [0.33846154 0.85866667 0.5        0.44444444]\n",
      " [0.48888889 0.644      0.68181818 0.25      ]\n",
      " [0.48888889 0.644      0.68181818 0.33333333]]\n"
     ]
    }
   ],
   "source": [
    "normalized_decision_matrix = np.zeros((num_alternatives, num_criteria))\n",
    "for j, criteria in enumerate(criteria_info.keys()):\n",
    "    if criteria_info[criteria] == \"b\":\n",
    "        max_val = np.max(decision_matrix[:, j])\n",
    "        normalized_decision_matrix[:, j] = decision_matrix[:, j] / max_val\n",
    "    elif criteria_info[criteria] == \"n\":\n",
    "        min_val = np.min(decision_matrix[:, j])\n",
    "        normalized_decision_matrix[:, j] = min_val / decision_matrix[:, j]\n",
    "\n",
    "print(\"\\nNormalized Decision Matrix:\")\n",
    "print(normalized_decision_matrix)"
   ]
  },
  {
   "cell_type": "markdown",
   "id": "43e8f936",
   "metadata": {},
   "source": [
    "# Kalkulasi weighted normalized decision matrix"
   ]
  },
  {
   "cell_type": "code",
   "execution_count": 9,
   "id": "aebd347f",
   "metadata": {},
   "outputs": [
    {
     "name": "stdout",
     "output_type": "stream",
     "text": [
      "\n",
      "Weighted Normalized Decision Matrix:\n",
      "[[0.29333333 0.11889231 0.2        0.1       ]\n",
      " [0.06285714 0.3        0.1        0.06944444]\n",
      " [0.19555556 0.23418182 0.08181818 0.03333333]\n",
      " [0.19555556 0.28622222 0.08181818 0.03333333]\n",
      " [0.4        0.20336842 0.05454545 0.04444444]\n",
      " [0.16       0.22729412 0.07272727 0.1       ]\n",
      " [0.13538462 0.2576     0.1        0.04444444]\n",
      " [0.19555556 0.1932     0.13636364 0.025     ]\n",
      " [0.19555556 0.1932     0.13636364 0.03333333]]\n"
     ]
    }
   ],
   "source": [
    "weighted_normalized_decision_matrix = normalized_decision_matrix * weights\n",
    "\n",
    "print(\"\\nWeighted Normalized Decision Matrix:\")\n",
    "print(weighted_normalized_decision_matrix)"
   ]
  },
  {
   "cell_type": "markdown",
   "id": "3f7c89fb",
   "metadata": {},
   "source": [
    "# Kalkulasi score di setiap alternatif"
   ]
  },
  {
   "cell_type": "code",
   "execution_count": 10,
   "id": "35337724",
   "metadata": {},
   "outputs": [
    {
     "name": "stdout",
     "output_type": "stream",
     "text": [
      "\n",
      "Scores:\n",
      "[0.0006975  0.00013095 0.0001249  0.00015265 0.00019721 0.00026449\n",
      " 0.000155   0.0001288  0.00017173]\n"
     ]
    }
   ],
   "source": [
    "scores = np.prod(weighted_normalized_decision_matrix, axis=1)\n",
    "\n",
    "print(\"\\nScores:\")\n",
    "print(scores)"
   ]
  },
  {
   "cell_type": "markdown",
   "id": "9bda2787",
   "metadata": {},
   "source": [
    "# Menentukan best alternatif"
   ]
  },
  {
   "cell_type": "code",
   "execution_count": 11,
   "id": "1bcec11f",
   "metadata": {},
   "outputs": [
    {
     "name": "stdout",
     "output_type": "stream",
     "text": [
      "\n",
      "Hasil Weighted Product Method:\n",
      "Alternatif terbaik: Apartement SDC dengan score 0.0006975015384615385\n"
     ]
    }
   ],
   "source": [
    "best_alternative_index = np.argmax(scores)\n",
    "best_alternative = alternatives[best_alternative_index]\n",
    "\n",
    "print(\"\\nHasil Weighted Product Method:\")\n",
    "print(f\"Alternatif terbaik: {best_alternative} dengan score {scores[best_alternative_index]}\")"
   ]
  }
 ],
 "metadata": {
  "kernelspec": {
   "display_name": "myenv",
   "language": "python",
   "name": "python3"
  },
  "language_info": {
   "codemirror_mode": {
    "name": "ipython",
    "version": 3
   },
   "file_extension": ".py",
   "mimetype": "text/x-python",
   "name": "python",
   "nbconvert_exporter": "python",
   "pygments_lexer": "ipython3",
   "version": "3.8.18"
  }
 },
 "nbformat": 4,
 "nbformat_minor": 5
}
